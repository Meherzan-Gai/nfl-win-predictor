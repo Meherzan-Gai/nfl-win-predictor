{
 "cells": [
  {
   "cell_type": "code",
   "execution_count": 979,
   "id": "9e07ea07-f37d-45bb-bace-20c54f377227",
   "metadata": {},
   "outputs": [],
   "source": [
    "import pandas as pd\n",
    "from sklearn.ensemble import RandomForestClassifier\n",
    "from sklearn.metrics import accuracy_score\n",
    "from sklearn.metrics import precision_score"
   ]
  },
  {
   "cell_type": "code",
   "execution_count": 980,
   "id": "08b3b90f-3b01-40a9-bf72-3251c52ef3ea",
   "metadata": {},
   "outputs": [],
   "source": [
    "#function to make sure the date is a valid date for sorting data and not one from the future\n",
    "#this function will add the year onto the date as it currently doesn't have it \n",
    "def adjust_date(row):\n",
    "    \n",
    "    season_year = row['Season']\n",
    "    month = row['Date'].split(' ')[0] \n",
    "    day = row['Date'].split(' ')[1]\n",
    "    \n",
    "    month_numbers = {\n",
    "        \"January\": 1, \"February\": 2, \"March\": 3, \"April\": 4,\n",
    "        \"May\": 5, \"June\": 6, \"July\": 7, \"August\": 8,\n",
    "        \"September\": 9, \"October\": 10, \"November\": 11, \"December\": 12\n",
    "    }\n",
    "    month_number = month_numbers[month]\n",
    "\n",
    "    #adjusting for january and february games as the season rolls into the next year\n",
    "    year = season_year + 1 if month_number in [1, 2] else season_year\n",
    "\n",
    "    # Return the adjusted date in MM/DD/YYYY format\n",
    "    return f\"{month_number:02d}/{day}/{year}\""
   ]
  },
  {
   "cell_type": "code",
   "execution_count": 981,
   "id": "1d440d0b-a4f1-4766-881d-b67e837840bc",
   "metadata": {},
   "outputs": [],
   "source": [
    "#cleaning data to prepare it for machine learning\n",
    "#matches.dtypes\n",
    "matches = pd.read_csv('matches.csv')\n",
    "\n",
    "#Removing playoff row error due to differing season lengths\n",
    "#playoffIdx = match_df[ (match_df['Date'] == 'Playoffs')].index\n",
    "#match_df =  match_df.drop(playoffIdx)\n",
    "#match_df = match_df.reset_index(drop = 'true')\n",
    "#match_df.to_csv('matches.csv', index=False, encoding='utf-8')\n",
    "#match_df\n",
    "\n",
    "\n",
    "#Removing playoff row error due to differing season lengths\n",
    "playoffIdx = matches[ (matches['Date'] == 'Playoffs')].index\n",
    "matches =  matches.drop(playoffIdx)\n",
    "matches = matches.reset_index(drop = 'true')\n",
    "matches.to_csv('matches.csv', index=False, encoding='utf-8')\n",
    "\n",
    "#converting dates to proper dates so that they can be stored as date types\n",
    "matches['Date'] = matches.apply(adjust_date, axis=1)\n",
    "matches['Date'] = pd.to_datetime(matches['Date'])\n",
    "\n",
    "\n",
    "#converting home/away into numeric data\n",
    "matches['Home/AwayCode'] = matches['Home/Away'].astype('category').cat.codes #0 is away, 1 is home\n",
    "\n",
    "\n",
    "\n",
    "#converting team into numeric data\n",
    "#matches['TeamCode'] = matches['Team'].astype('category').cat.codes\n",
    "\n",
    "#converting opponents into numeric data\n",
    "#matches['OppCode'] = matches['Opp'].astype('category').cat.codes\n",
    "\n",
    "#adding hour column \n",
    "matches['Hour'] = matches['Time'].str.replace(':.+', '', regex = True).astype('int')\n",
    "\n",
    "\n",
    "#adding day of the week column\n",
    "matches['DayCode'] = matches['Date'].dt.dayofweek\n",
    "#NOTE STILL NEED TO CLEAN UP DATE FIRST\n",
    "\n",
    "\n",
    "#converting all other stats from objects to ints\n",
    "for column in matches.columns[10:24]:\n",
    "    matches[column] = pd.to_numeric(matches[column])\n",
    "\n",
    "#adding in team year and opp year column to make teams separate by year\n",
    "matches['TeamYear'] = matches['Team'].astype('str') + '' + matches['Season'].apply(str)\n",
    "matches['OppYear'] = matches['Opp'].astype('str') + '' + matches['Season'].apply(str)\n",
    "\n",
    "\n",
    "matches['TeamCode'] = matches['TeamYear'].astype('category').cat.codes\n",
    "\n",
    "matches['OppCode'] = matches['OppYear'].astype('category').cat.codes\n",
    "\n",
    "#converting Win/Loss to numbers\n",
    "matches['Target'] = (matches['Result'] == 'W').astype('int')"
   ]
  },
  {
   "cell_type": "code",
   "execution_count": 982,
   "id": "7723d2ac-beb9-4c52-b4ba-4da549fb9e34",
   "metadata": {},
   "outputs": [],
   "source": [
    "rf = RandomForestClassifier(n_estimators = 50, min_samples_split = 10, random_state = 1)\n",
    "training = matches[matches['Date'] < '12-24-2024']\n",
    "train = matches[matches['Date'] > '04-04-2022'] #delete this and change above line to fix\n",
    "test = matches[matches['Date'] > '12-24-2024']\n",
    "predictors = ['Home/AwayCode', 'TeamCode', 'OppCode']\n",
    "rf.fit(train[predictors], train['Target'])\n",
    "preds = rf.predict(test[predictors])"
   ]
  },
  {
   "cell_type": "code",
   "execution_count": 983,
   "id": "cbf8b2ab-2a35-4233-b7a8-58c7449cd2cf",
   "metadata": {},
   "outputs": [
    {
     "data": {
      "text/plain": [
       "0.75"
      ]
     },
     "execution_count": 983,
     "metadata": {},
     "output_type": "execute_result"
    }
   ],
   "source": [
    "acc = accuracy_score(test['Target'], preds)\n",
    "acc"
   ]
  },
  {
   "cell_type": "code",
   "execution_count": 984,
   "id": "863a6066-e0b7-4d5e-bd5f-07a172a7faa4",
   "metadata": {},
   "outputs": [
    {
     "data": {
      "text/plain": [
       "0.2"
      ]
     },
     "execution_count": 984,
     "metadata": {},
     "output_type": "execute_result"
    }
   ],
   "source": [
    "precision_score(test['Target'],preds)"
   ]
  },
  {
   "cell_type": "code",
   "execution_count": null,
   "id": "16bdf17e-b613-4f5d-bab8-40868182d344",
   "metadata": {},
   "outputs": [],
   "source": []
  },
  {
   "cell_type": "code",
   "execution_count": 985,
   "id": "18924d03-627a-4c63-84c1-89176b1fbfc6",
   "metadata": {},
   "outputs": [],
   "source": [
    "def rolling_averages(group, cols, new_cols):\n",
    "    group = group.sort_values('Date')\n",
    "    rolling_stats = group[cols].rolling(3, closed = 'left').mean()\n",
    "    group[new_cols] = rolling_stats\n",
    "    group = group.dropna(subset = new_cols)\n",
    "    return group"
   ]
  },
  {
   "cell_type": "code",
   "execution_count": 998,
   "id": "e9bb10b3-1aea-4ce5-b30a-65968b715baf",
   "metadata": {},
   "outputs": [
    {
     "name": "stdout",
     "output_type": "stream",
     "text": [
      "Accuracy 0.63671875\n",
      "Precision 0.6085271317829457\n"
     ]
    },
    {
     "name": "stderr",
     "output_type": "stream",
     "text": [
      "/var/folders/dv/ksn188m160d0kdwndyl505jh0000gn/T/ipykernel_85187/1430922486.py:9: DeprecationWarning: DataFrameGroupBy.apply operated on the grouping columns. This behavior is deprecated, and in a future version of pandas the grouping columns will be excluded from the operation. Either pass `include_groups=False` to exclude the groupings or explicitly select the grouping columns after groupby to silence this warning.\n",
      "  matches_rolling = matches.groupby('Team').apply(lambda x: rolling_averages(x, cols, new_cols))\n"
     ]
    }
   ],
   "source": [
    "#cols = ['TmSc', 'OppSc', 'Off1stD', 'OffTotYd', 'OffPassY', 'OffRushY', 'OffTO', 'Def1stD', 'DefTotYd', 'DefPassY', 'DefRushY', 'DefTO', 'EPOff', 'EPDef', 'EPSp.']\n",
    "#cols = ['TmSc', 'OppSc', 'Off1stD', 'OffTotYd', 'OffPassY', 'OffRushY', 'OffTO', 'Def1stD', 'DefTotYd', 'DefPassY', 'DefRushY', 'DefTO']\n",
    "cols = ['TmSc', 'OppSc', 'OffTotYd', 'DefTotYd', 'OffRushY', 'OffTO']\n",
    "#cols = ['TmSc', 'OppSc']\n",
    "#cols = ['EPOff', 'EPDef', 'EPSp.']\n",
    "predictors = ['Home/AwayCode', 'OppCode', 'TeamCode']\n",
    "\n",
    "new_cols = [f'{col}_rolling' for col in cols]\n",
    "matches_rolling = matches.groupby('Team').apply(lambda x: rolling_averages(x, cols, new_cols))\n",
    "matches_rolling = matches_rolling.droplevel('Team')\n",
    "matches_rolling.index = range(matches_rolling.shape[0])\n",
    "\n",
    "\n",
    "\n",
    "\n",
    "def make_predictions(data, predictors):\n",
    "    rf = RandomForestClassifier(n_estimators = 100, min_samples_split = 10, random_state = 1)\n",
    "    training = data[data['Date'] < '04-04-2024']\n",
    "    train = training[training['Date'] > '04-04-2022'] #delete this and change above line to fix\n",
    "    test = data[data['Date'] > '04-04-2024']\n",
    "    rf.fit(train[predictors], train['Target'])\n",
    "    preds = rf.predict(test[predictors])\n",
    "    combined = pd.DataFrame(dict(actual=test['Target'], prediction=preds))\n",
    "    precision = precision_score(test['Target'],preds)\n",
    "    print(\"Accuracy\", accuracy_score(test['Target'], preds))\n",
    "    return combined, precision, rf\n",
    "\n",
    "new_predictors = predictors + new_cols\n",
    "combined, precision, rf = make_predictions(matches_rolling, predictors)\n",
    "print(\"Precision\", precision)"
   ]
  },
  {
   "cell_type": "code",
   "execution_count": 987,
   "id": "65f2398f-2194-4a6a-b188-fb1186bc7f7b",
   "metadata": {},
   "outputs": [
    {
     "data": {
      "text/plain": [
       "actual_x\n",
       "1    149\n",
       "0     93\n",
       "Name: count, dtype: int64"
      ]
     },
     "execution_count": 987,
     "metadata": {},
     "output_type": "execute_result"
    }
   ],
   "source": [
    "combined = combined.merge(matches_rolling[['Date','Team','Opp','Result']], left_index = True, right_index = True)\n",
    "merged = combined.merge(combined, left_on = ['Date', 'Team'], right_on = ['Date', 'Opp'])\n",
    "merged[(merged['prediction_x'] == 1) & (merged['prediction_y'] == 0)]['actual_x'].value_counts()"
   ]
  },
  {
   "cell_type": "code",
   "execution_count": 988,
   "id": "4a81c294-5ae4-4530-9f5e-19a45a318fd9",
   "metadata": {},
   "outputs": [],
   "source": [
    "combined.to_csv('predictions.csv')"
   ]
  },
  {
   "cell_type": "code",
   "execution_count": 989,
   "id": "0ef39e4e-8a72-463f-b7ec-318cf64d0acd",
   "metadata": {},
   "outputs": [
    {
     "name": "stdout",
     "output_type": "stream",
     "text": [
      "Home/AwayCode: 0.03523801372361643\n",
      "OppCode: 0.4755374819047376\n",
      "TeamCode: 0.48922450437164605\n"
     ]
    }
   ],
   "source": [
    "feature_importances = rf.feature_importances_\n",
    "for feature, importance in zip(new_predictors, feature_importances):\n",
    "\n",
    "    print(f\"{feature}: {importance}\") \n"
   ]
  },
  {
   "cell_type": "code",
   "execution_count": 1003,
   "id": "e83e20d9-d03a-4e0c-8c57-220d9cd35909",
   "metadata": {},
   "outputs": [
    {
     "data": {
      "text/html": [
       "<div>\n",
       "<style scoped>\n",
       "    .dataframe tbody tr th:only-of-type {\n",
       "        vertical-align: middle;\n",
       "    }\n",
       "\n",
       "    .dataframe tbody tr th {\n",
       "        vertical-align: top;\n",
       "    }\n",
       "\n",
       "    .dataframe thead th {\n",
       "        text-align: right;\n",
       "    }\n",
       "</style>\n",
       "<table border=\"1\" class=\"dataframe\">\n",
       "  <thead>\n",
       "    <tr style=\"text-align: right;\">\n",
       "      <th></th>\n",
       "      <th>actual</th>\n",
       "      <th>prediction</th>\n",
       "      <th>Date</th>\n",
       "      <th>Team</th>\n",
       "      <th>Opp</th>\n",
       "    </tr>\n",
       "  </thead>\n",
       "  <tbody>\n",
       "    <tr>\n",
       "      <th>79</th>\n",
       "      <td>1</td>\n",
       "      <td>1</td>\n",
       "      <td>2024-12-25</td>\n",
       "      <td>Baltimore Ravens</td>\n",
       "      <td>Houston Texans</td>\n",
       "    </tr>\n",
       "    <tr>\n",
       "      <th>95</th>\n",
       "      <td>0</td>\n",
       "      <td>0</td>\n",
       "      <td>2024-12-25</td>\n",
       "      <td>Pittsburgh Steelers</td>\n",
       "      <td>Kansas City Chiefs</td>\n",
       "    </tr>\n",
       "    <tr>\n",
       "      <th>143</th>\n",
       "      <td>0</td>\n",
       "      <td>0</td>\n",
       "      <td>2024-12-25</td>\n",
       "      <td>Houston Texans</td>\n",
       "      <td>Baltimore Ravens</td>\n",
       "    </tr>\n",
       "    <tr>\n",
       "      <th>207</th>\n",
       "      <td>1</td>\n",
       "      <td>1</td>\n",
       "      <td>2024-12-25</td>\n",
       "      <td>Kansas City Chiefs</td>\n",
       "      <td>Pittsburgh Steelers</td>\n",
       "    </tr>\n",
       "    <tr>\n",
       "      <th>383</th>\n",
       "      <td>0</td>\n",
       "      <td>0</td>\n",
       "      <td>2024-12-26</td>\n",
       "      <td>Chicago Bears</td>\n",
       "      <td>Seattle Seahawks</td>\n",
       "    </tr>\n",
       "    <tr>\n",
       "      <th>479</th>\n",
       "      <td>0</td>\n",
       "      <td>0</td>\n",
       "      <td>2024-12-26</td>\n",
       "      <td>Seattle Seahawks</td>\n",
       "      <td>Chicago Bears</td>\n",
       "    </tr>\n",
       "  </tbody>\n",
       "</table>\n",
       "</div>"
      ],
      "text/plain": [
       "     actual  prediction       Date                 Team                  Opp\n",
       "79        1           1 2024-12-25     Baltimore Ravens       Houston Texans\n",
       "95        0           0 2024-12-25  Pittsburgh Steelers   Kansas City Chiefs\n",
       "143       0           0 2024-12-25       Houston Texans     Baltimore Ravens\n",
       "207       1           1 2024-12-25   Kansas City Chiefs  Pittsburgh Steelers\n",
       "383       0           0 2024-12-26        Chicago Bears     Seattle Seahawks\n",
       "479       0           0 2024-12-26     Seattle Seahawks        Chicago Bears"
      ]
     },
     "execution_count": 1003,
     "metadata": {},
     "output_type": "execute_result"
    }
   ],
   "source": [
    "#get week 17 games\n",
    "week17 = matches[matches['Season'] == 2024].copy(deep = True)\n",
    "week17 = week17[week17['Week'] == 17]\n",
    "week17\n",
    "week17_preds = rf.predict(week17[predictors])\n",
    "combined = pd.DataFrame(dict(actual=test['Target'], prediction=preds))\n",
    "week17_table = combined.merge(week17[['Date','Team','Opp']], left_index = True, right_index = True)\n",
    "week17_table = week17_table[ week17_table['Date'] <= pd.Timestamp.now()]\n",
    "week17_table"
   ]
  }
 ],
 "metadata": {
  "kernelspec": {
   "display_name": "virtual_env",
   "language": "python",
   "name": "virtual_env"
  },
  "language_info": {
   "codemirror_mode": {
    "name": "ipython",
    "version": 3
   },
   "file_extension": ".py",
   "mimetype": "text/x-python",
   "name": "python",
   "nbconvert_exporter": "python",
   "pygments_lexer": "ipython3",
   "version": "3.13.1"
  }
 },
 "nbformat": 4,
 "nbformat_minor": 5
}
