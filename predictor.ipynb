{
 "cells": [
  {
   "cell_type": "code",
   "execution_count": 38,
   "id": "9e07ea07-f37d-45bb-bace-20c54f377227",
   "metadata": {},
   "outputs": [],
   "source": [
    "import pandas as pd\n",
    "from sklearn.ensemble import RandomForestClassifier\n",
    "from sklearn.metrics import accuracy_score"
   ]
  },
  {
   "cell_type": "code",
   "execution_count": 39,
   "id": "08b3b90f-3b01-40a9-bf72-3251c52ef3ea",
   "metadata": {},
   "outputs": [],
   "source": [
    "#function to make sure the date is a valid date for sorting data and not one from the future\n",
    "#this function will add the year onto the date as it currently doesn't have it \n",
    "def adjust_date(row):\n",
    "    \n",
    "    season_year = row['Season']\n",
    "    month = row['Date'].split(' ')[0] \n",
    "    day = row['Date'].split(' ')[1]\n",
    "    \n",
    "    month_numbers = {\n",
    "        \"January\": 1, \"February\": 2, \"March\": 3, \"April\": 4,\n",
    "        \"May\": 5, \"June\": 6, \"July\": 7, \"August\": 8,\n",
    "        \"September\": 9, \"October\": 10, \"November\": 11, \"December\": 12\n",
    "    }\n",
    "    month_number = month_numbers[month]\n",
    "\n",
    "    #adjusting for january and february games as the season rolls into the next year\n",
    "    year = season_year + 1 if month_number in [1, 2] else season_year\n",
    "\n",
    "    # Return the adjusted date in MM/DD/YYYY format\n",
    "    return f\"{month_number:02d}/{day}/{year}\""
   ]
  },
  {
   "cell_type": "code",
   "execution_count": 40,
   "id": "1d440d0b-a4f1-4766-881d-b67e837840bc",
   "metadata": {},
   "outputs": [],
   "source": [
    "#cleaning data to prepare it for machine learning\n",
    "#matches.dtypes\n",
    "matches = pd.read_csv('matches.csv')\n",
    "\n",
    "\n",
    "#converting dates to proper dates so that they can be stored as date types\n",
    "matches['Date'] = matches.apply(adjust_date, axis=1)\n",
    "matches['Date'] = pd.to_datetime(matches['Date'])\n",
    "\n",
    "\n",
    "#converting home/away into numeric data\n",
    "matches['Home/AwayCode'] = matches['Home/Away'].astype('category').cat.codes\n",
    "matches['Home/AwayCode']\n",
    "\n",
    "\n",
    "#converting opponents into numeric data\n",
    "matches['OppCode'] = matches['Opp'].astype('category').cat.codes\n",
    "\n",
    "#adding hour column \n",
    "matches['Hour'] = matches['Time'].str.replace(':.+', '', regex = True).astype('int')\n",
    "\n",
    "\n",
    "#adding day of the week column\n",
    "matches['DayCode'] = matches['Date'].dt.dayofweek\n",
    "#NOTE STILL NEED TO CLEAN UP DATE FIRST\n",
    "\n",
    "\n",
    "\n",
    "#converting Win/Loss to numbers\n",
    "matches['Target'] = (matches['Result'] == 'W').astype('int')"
   ]
  },
  {
   "cell_type": "code",
   "execution_count": 44,
   "id": "7723d2ac-beb9-4c52-b4ba-4da549fb9e34",
   "metadata": {},
   "outputs": [],
   "source": [
    "rf = RandomForestClassifier(n_estimators = 50, min_samples_split = 10, random_state = 1)\n",
    "train = matches[matches['Date'] < '04-04-2024']\n",
    "test = matches[matches['Date'] > '04-04-2024']\n",
    "predictors = ['Home/AwayCode', 'OppCode', 'Hour', 'DayCode']\n",
    "rf.fit(train[predictors], train['Target'])\n",
    "preds = rf.predict(test[predictors])"
   ]
  },
  {
   "cell_type": "code",
   "execution_count": 46,
   "id": "cbf8b2ab-2a35-4233-b7a8-58c7449cd2cf",
   "metadata": {},
   "outputs": [],
   "source": [
    "acc = accuracy_score(test['Target'], preds)"
   ]
  },
  {
   "cell_type": "code",
   "execution_count": 47,
   "id": "6d19ee76-c3c0-4027-9a61-267069c86540",
   "metadata": {},
   "outputs": [
    {
     "data": {
      "text/plain": [
       "0.5349264705882353"
      ]
     },
     "execution_count": 47,
     "metadata": {},
     "output_type": "execute_result"
    }
   ],
   "source": [
    "acc"
   ]
  }
 ],
 "metadata": {
  "kernelspec": {
   "display_name": "virtual_env",
   "language": "python",
   "name": "virtual_env"
  },
  "language_info": {
   "codemirror_mode": {
    "name": "ipython",
    "version": 3
   },
   "file_extension": ".py",
   "mimetype": "text/x-python",
   "name": "python",
   "nbconvert_exporter": "python",
   "pygments_lexer": "ipython3",
   "version": "3.13.1"
  }
 },
 "nbformat": 4,
 "nbformat_minor": 5
}
