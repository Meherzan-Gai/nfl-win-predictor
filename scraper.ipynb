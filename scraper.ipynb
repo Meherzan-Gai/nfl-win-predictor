{
 "cells": [
  {
   "cell_type": "code",
   "execution_count": 7,
   "id": "930a0163-7f5f-471a-b6fa-a943583caf36",
   "metadata": {},
   "outputs": [],
   "source": [
    "stats_url = \"https://www.pro-football-reference.com/years/2024/\""
   ]
  },
  {
   "cell_type": "code",
   "execution_count": null,
   "id": "a09c5002-e9c2-44b9-be74-f91235f8dcd4",
   "metadata": {},
   "outputs": [],
   "source": [
    "import requests\n",
    "import pandas as pd\n",
    "import time\n",
    "from io import StringIO\n",
    "from bs4 import BeautifulSoup"
   ]
  },
  {
   "cell_type": "code",
   "execution_count": 9,
   "id": "442a4dc1-20d6-4286-9d49-bd24e1ad3b64",
   "metadata": {},
   "outputs": [],
   "source": [
    "def getTeamUrls(stats_url):\n",
    "    start = time.time()\n",
    "    data = requests.get(stats_url)\n",
    "    delay = time.time() - start\n",
    "    time.sleep(2.423*delay)\n",
    "\n",
    "    soup = BeautifulSoup(data.text)\n",
    "    afc_standings = soup.select('table.stats_table')\n",
    "    afc_team_links = []\n",
    "    for tag in afc_standings:\n",
    "        links = tag.find_all('a')\n",
    "        afc_team_links.extend(links)\n",
    "    afc_team_links = [link.get(\"href\") for link in afc_team_links]\n",
    "    \n",
    "    \n",
    "    \n",
    "    nfc_standings = soup.select('#NFC')\n",
    "    nfc_team_links = []\n",
    "    for tag in nfc_standings:\n",
    "        links = tag.find_all('a')\n",
    "        nfc_team_links.extend(links)\n",
    "    nfc_team_links = [link.get(\"href\") for link in nfc_team_links]\n",
    "    team_links = afc_team_links + nfc_team_links\n",
    "    team_urls = [f\"https://pro-football-reference.com{link}\" for link in team_links]\n",
    "    return team_urls"
   ]
  },
  {
   "cell_type": "code",
   "execution_count": 10,
   "id": "65d31c41-c746-438c-97c4-c7f8e2598ff1",
   "metadata": {},
   "outputs": [],
   "source": [
    "#Making pandas database out of Game Results and Basic Stats\n",
    "def makeTeamDb (team_url):\n",
    "    data = requests.get(team_url)\n",
    "    \n",
    "    matches = pd.read_html(StringIO(data.text), match = \"Schedule & Game Results Table\")[0]\n",
    "    \n",
    "    #Adding names for unnamed columns manually\n",
    "    matches = matches.rename(columns={'Unnamed: 3_level_1' : 'Time', 'Unnamed: 4_level_1' : 'Game Link', 'Unnamed: 5_level_1' : 'Result',\n",
    "                                      'Unnamed: 8_level_1' : 'Home/Away'},)\n",
    "    \n",
    "    \n",
    "    #Renaming columns \n",
    "    new_columns = []\n",
    "    for column in matches.columns:\n",
    "        if column[0] == 'Offense':\n",
    "            new_columns.append('Off' + column[1])\n",
    "                \n",
    "        elif column[0] == 'Defense':\n",
    "            new_columns.append('Def' + column[1])\n",
    "    \n",
    "        elif column[0] == 'Expected Points':\n",
    "            new_columns.append('EP' + column[1][:3])\n",
    "    \n",
    "        elif column[0] == 'Score':\n",
    "            new_columns.append(column[1] + 'Sc')\n",
    "    \n",
    "        else:\n",
    "            new_columns.append(column[1])\n",
    "    \n",
    "    matches.columns = new_columns\n",
    "    \n",
    "    \n",
    "    #Fixing empty data values\n",
    "    matches['OT'] = matches['OT'].apply(lambda x : 'N' if pd.isna(x) or x=='N' else 'Y')\n",
    "    matches['Result'] = matches['Result'].apply(lambda x : '' if pd.isna(x) or x=='' else x)\n",
    "    matches['Rec'] = matches['Rec'].apply(lambda x : '' if pd.isna(x) or x=='' else x)\n",
    "    matches['Home/Away'] = matches['Home/Away'].apply(lambda x : 'H' if pd.isna(x) or x=='H' else 'A')\n",
    "    \n",
    "    #Fixing empty data numbers to 0.0\n",
    "    for column in matches.columns[13:]:\n",
    "        matches[column] = matches[column].apply(lambda x : '0.0' if pd.isna(x) or x=='0.0' else x)\n",
    "    \n",
    "    #Fixing links to more detailed game stats\n",
    "    data = requests.get(team_url)\n",
    "    soup = BeautifulSoup(data.text)\n",
    "    game_table = soup.select('#games')\n",
    "    game_links = []\n",
    "    for tag in game_table:\n",
    "        links = tag.find_all('a')\n",
    "        game_links.extend(links)\n",
    "    \n",
    "    game_links = [link.get(\"href\") for link in game_links]\n",
    "    game_links = [link for link in game_links if '/boxscores' in link]\n",
    "    game_links = [f\"https://pro-football-reference.com{link}\" for link in game_links]\n",
    "    bye_week = 0\n",
    "    while (matches['Opp'][bye_week] != 'Bye Week'):\n",
    "        bye_week+=1\n",
    "    game_links.insert(bye_week, '')\n",
    "    matches['Game Link'] = game_links\n",
    "    return matches"
   ]
  },
  {
   "cell_type": "code",
   "execution_count": 11,
   "id": "6e0cd9a7-0f95-45c7-9ed1-3a37fd28ca62",
   "metadata": {},
   "outputs": [],
   "source": [
    "years = list(range(2022,2020, -1))"
   ]
  },
  {
   "cell_type": "raw",
   "id": "fa48b911-7dc4-47db-8d90-658de5c95c99",
   "metadata": {},
   "source": [
    "for year in years:\n",
    "    start = time.time()\n",
    "    data = requests.get(stats_url)\n",
    "    delay = time.time() - start\n",
    "    time.sleep(2.423*delay)\n",
    "    \n",
    "    #previous_season = soup.select(\"a.prev\")\n",
    "    team_urls = getTeamUrls(stats_url)\n",
    "    print(team_urls)\n",
    "    for team_url in team_urls:\n",
    "        print(team_url)\n",
    "        db = makeTeamDb(team_url)\n",
    "        \n",
    "\n",
    "\n"
   ]
  }
 ],
 "metadata": {
  "kernelspec": {
   "display_name": "virtual_env",
   "language": "python",
   "name": "virtual_env"
  },
  "language_info": {
   "codemirror_mode": {
    "name": "ipython",
    "version": 3
   },
   "file_extension": ".py",
   "mimetype": "text/x-python",
   "name": "python",
   "nbconvert_exporter": "python",
   "pygments_lexer": "ipython3",
   "version": "3.13.1"
  }
 },
 "nbformat": 4,
 "nbformat_minor": 5
}
